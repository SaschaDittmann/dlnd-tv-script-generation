{
 "cells": [
  {
   "cell_type": "markdown",
   "metadata": {},
   "source": [
    "# Train, hyperparameter tune and test the TV Script Generation model"
   ]
  },
  {
   "cell_type": "markdown",
   "metadata": {},
   "source": [
    "## Prerequisites\n",
    "If you are using an Azure Machine Learning Notebook VM, you are all set. Otherwise, you have to install the Azure Machine Learning Python SDK and create an Azure ML Workspace first."
   ]
  },
  {
   "cell_type": "code",
   "execution_count": null,
   "metadata": {},
   "outputs": [],
   "source": [
    "# Check core SDK version number\n",
    "import azureml.core\n",
    "\n",
    "print(\"Azure SDK version:\", azureml.core.VERSION)"
   ]
  },
  {
   "cell_type": "markdown",
   "metadata": {},
   "source": [
    "## Initialize workspace\n",
    "\n",
    "Initialize a [Workspace](https://docs.microsoft.com/azure/machine-learning/service/concept-azure-machine-learning-architecture#workspace) object from the existing workspace you created in the Prerequisites step. Workspace.from_config() creates a workspace object from the details stored in config.json."
   ]
  },
  {
   "cell_type": "code",
   "execution_count": null,
   "metadata": {},
   "outputs": [],
   "source": [
    "from azureml.core.workspace import Workspace\n",
    "\n",
    "ws = Workspace.from_config()\n",
    "print('Workspace name: ' + ws.name, \n",
    "      'Azure region: ' + ws.location, \n",
    "      'Subscription id: ' + ws.subscription_id, \n",
    "      'Resource group: ' + ws.resource_group, sep = '\\n')"
   ]
  },
  {
   "cell_type": "markdown",
   "metadata": {},
   "source": [
    "## Create or Attach existing AmlCompute\n",
    "\n",
    "**Creation of AmlCompute takes approximately 5 minutes.** If the AmlCompute with that name is already in your workspace, this code will skip the creation process.\n",
    "\n",
    "As with other Azure services, there are limits on certain resources (e.g. AmlCompute) associated with the Azure Machine Learning service. Please read [this article](https://docs.microsoft.com/en-us/azure/machine-learning/service/how-to-manage-quotas) on the default limits and how to request more quota."
   ]
  },
  {
   "cell_type": "code",
   "execution_count": null,
   "metadata": {},
   "outputs": [],
   "source": [
    "from azureml.core.compute import ComputeTarget, AmlCompute\n",
    "from azureml.core.compute_target import ComputeTargetException\n",
    "\n",
    "# choose a name for your cluster\n",
    "cluster_name = \"gpu-cluster\"\n",
    "\n",
    "try:\n",
    "    compute_target = ComputeTarget(workspace=ws, name=cluster_name)\n",
    "    print('Found existing compute target')\n",
    "except ComputeTargetException:\n",
    "    print('Creating a new compute target...')\n",
    "    compute_config = AmlCompute.provisioning_configuration(\n",
    "        vm_size='Standard_NC6', \n",
    "        vm_priority=\"dedicated\",\n",
    "        min_nodes = 0,\n",
    "        max_nodes = 12,\n",
    "        idle_seconds_before_scaledown=300\n",
    "    )\n",
    "\n",
    "    # create the cluster\n",
    "    compute_target = ComputeTarget.create(ws, cluster_name, compute_config)\n",
    "\n",
    "# can poll for a minimum number of nodes and for a specific timeout. \n",
    "# if no min node count is provided it uses the scale settings for the cluster\n",
    "compute_target.wait_for_completion(show_output=True, min_node_count=None, timeout_in_minutes=20)\n",
    "\n",
    "# use get_status() to get a detailed status for the current cluster. \n",
    "print(compute_target.get_status().serialize())"
   ]
  },
  {
   "cell_type": "markdown",
   "metadata": {},
   "source": [
    "## Train model on the remote compute\n",
    "\n",
    "I need to setup my training environment with the following steps\n",
    "- Create a project directory & add training assets like scripts and data\n",
    "- Create an Azure ML experiment\n",
    "- Create an environment\n",
    "- Configure & submit the training job\n",
    "\n",
    "### Create a project directory & add training assets\n",
    "\n",
    "Create a directory that will contain all the necessary code from your local machine that you will need access to on the remote resource. This includes the training script and any additional files your training script depends on."
   ]
  },
  {
   "cell_type": "code",
   "execution_count": null,
   "metadata": {},
   "outputs": [],
   "source": [
    "import os\n",
    "import shutil\n",
    "import glob\n",
    "\n",
    "project_folder = './train'\n",
    "os.makedirs(project_folder, exist_ok=True)\n",
    "\n",
    "for script in glob.glob('../*.py'):\n",
    "    shutil.copy(script, project_folder)\n",
    "    \n",
    "for script in glob.glob('*.py'):\n",
    "    shutil.copy(script, project_folder)\n",
    "\n",
    "data_folder = project_folder + '/data'\n",
    "os.makedirs(data_folder, exist_ok=True)\n",
    "for txt in glob.glob('../data/*.txt'):\n",
    "    shutil.copy(txt, data_folder)"
   ]
  },
  {
   "cell_type": "markdown",
   "metadata": {},
   "source": [
    "### Create an experiment\n",
    "Create an Experiment to track all the runs in your workspace."
   ]
  },
  {
   "cell_type": "code",
   "execution_count": null,
   "metadata": {},
   "outputs": [],
   "source": [
    "from azureml.core import Experiment\n",
    "\n",
    "experiment_name = 'tv-script-generation'\n",
    "experiment = Experiment(ws, name=experiment_name)"
   ]
  },
  {
   "cell_type": "markdown",
   "metadata": {},
   "source": [
    "### Create an environment\n",
    "\n",
    "Define a conda environment YAML file with your training script dependencies and create an Azure ML environment."
   ]
  },
  {
   "cell_type": "code",
   "execution_count": null,
   "metadata": {},
   "outputs": [],
   "source": [
    "%%writefile conda_dependencies.yml\n",
    "\n",
    "channels:\n",
    "- conda-forge\n",
    "dependencies:\n",
    "- python=3.6.2\n",
    "- pip:\n",
    "  - azureml-defaults\n",
    "  - torch==1.6.0\n",
    "  - torchvision==0.7.0\n",
    "  - future==0.17.1\n",
    "  - torchsummary\n",
    "  - torchsummaryX\n",
    "  - pillow"
   ]
  },
  {
   "cell_type": "code",
   "execution_count": null,
   "metadata": {},
   "outputs": [],
   "source": [
    "from azureml.core import Environment\n",
    "\n",
    "pytorch_env = Environment.from_conda_specification(name = 'pytorch-1.6-gpu', file_path = './conda_dependencies.yml')\n",
    "\n",
    "# Specify a GPU base image\n",
    "#pytorch_env.docker.enabled = True\n",
    "pytorch_env.docker.base_image = 'mcr.microsoft.com/azureml/openmpi3.1.2-cuda10.1-cudnn7-ubuntu18.04'"
   ]
  },
  {
   "cell_type": "markdown",
   "metadata": {},
   "source": [
    "### Configure the training job\n",
    "Create a ScriptRunConfig object to specify the configuration details of your training job, including your training script, environment to use, and the compute target to run on."
   ]
  },
  {
   "cell_type": "code",
   "execution_count": null,
   "metadata": {},
   "outputs": [],
   "source": [
    "from azureml.core import ScriptRunConfig\n",
    "from azureml.core.runconfig import DockerConfiguration\n",
    "\n",
    "args = [\n",
    "    '--num_epochs', 15, \n",
    "    '--batch_size', 256,\n",
    "    '--learning_rate', 0.0005,\n",
    "    '--sequence_length', 10,\n",
    "    '--embedding_dim', 300,\n",
    "    '--hidden_dim', 400,\n",
    "    '--num_layers', 2,\n",
    "    '--output_dir', './outputs'\n",
    "]\n",
    "\n",
    "docker_config = DockerConfiguration(use_docker=True)\n",
    "script_run_config = ScriptRunConfig(source_directory=project_folder,\n",
    "                                    script='train.py',\n",
    "                                    arguments=args,\n",
    "                                    compute_target=compute_target,\n",
    "                                    environment=pytorch_env,\n",
    "                                    docker_runtime_config=docker_config)"
   ]
  },
  {
   "cell_type": "markdown",
   "metadata": {},
   "source": [
    "### Submit job\n",
    "Run your experiment by submitting your ScriptRunConfig object. Note that this call is asynchronous."
   ]
  },
  {
   "cell_type": "code",
   "execution_count": null,
   "metadata": {},
   "outputs": [],
   "source": [
    "test_run = experiment.submit(script_run_config)"
   ]
  },
  {
   "cell_type": "markdown",
   "metadata": {},
   "source": [
    "### Monitor your run\n",
    "You can monitor the progress of the run with a Jupyter widget. Like the run submission, the widget is asynchronous and provides live updates every 10-15 seconds until the job completes."
   ]
  },
  {
   "cell_type": "code",
   "execution_count": null,
   "metadata": {},
   "outputs": [],
   "source": [
    "from azureml.widgets import RunDetails\n",
    "\n",
    "RunDetails(test_run).show()"
   ]
  },
  {
   "cell_type": "markdown",
   "metadata": {},
   "source": [
    "Alternatively, you can block until the script has completed training before running more code."
   ]
  },
  {
   "cell_type": "code",
   "execution_count": null,
   "metadata": {
    "scrolled": true
   },
   "outputs": [],
   "source": [
    "test_run.wait_for_completion(show_output=True)"
   ]
  },
  {
   "cell_type": "markdown",
   "metadata": {},
   "source": [
    "## Hyperparameter Tuning\n",
    "\n",
    "Run 3 Hyperparameter Tuning experiments:\n",
    "- Combintation of Embedding & Hidden dimensions\n",
    "- Sequence Length\n",
    "- Number of Hidden Layers"
   ]
  },
  {
   "cell_type": "code",
   "execution_count": null,
   "metadata": {},
   "outputs": [],
   "source": [
    "from azureml.train.hyperdrive import GridParameterSampling\n",
    "from azureml.train.hyperdrive import HyperDriveConfig, PrimaryMetricGoal\n",
    "from azureml.train.hyperdrive import choice\n",
    "\n",
    "param_sampling = GridParameterSampling( {\n",
    "        \"embedding_dim\": choice(range(200, 601, 50)),\n",
    "        \"hidden_dim\": choice(range(200, 601, 50))\n",
    "    }\n",
    ")\n",
    "\n",
    "hyperdrive_config = HyperDriveConfig(run_config=script_run_config,\n",
    "                                     hyperparameter_sampling=param_sampling, \n",
    "                                     primary_metric_name='train_loss',\n",
    "                                     primary_metric_goal=PrimaryMetricGoal.MINIMIZE,\n",
    "                                     max_total_runs=100,\n",
    "                                     max_concurrent_runs=4)\n",
    "\n",
    "hyperdrive_run_embedding_hidden_dim = experiment.submit(hyperdrive_config)"
   ]
  },
  {
   "cell_type": "code",
   "execution_count": null,
   "metadata": {},
   "outputs": [],
   "source": [
    "from azureml.train.hyperdrive import GridParameterSampling\n",
    "from azureml.train.hyperdrive import HyperDriveConfig, PrimaryMetricGoal\n",
    "from azureml.train.hyperdrive import choice\n",
    "\n",
    "param_sampling = GridParameterSampling( {\n",
    "        \"sequence_length\": choice(range(5, 51, 5))\n",
    "    }\n",
    ")\n",
    "\n",
    "hyperdrive_config = HyperDriveConfig(run_config=script_run_config,\n",
    "                                     hyperparameter_sampling=param_sampling, \n",
    "                                     primary_metric_name='train_loss',\n",
    "                                     primary_metric_goal=PrimaryMetricGoal.MINIMIZE,\n",
    "                                     max_total_runs=100,\n",
    "                                     max_concurrent_runs=4)\n",
    "\n",
    "hyperdrive_run_sequence_length = experiment.submit(hyperdrive_config)"
   ]
  },
  {
   "cell_type": "code",
   "execution_count": null,
   "metadata": {},
   "outputs": [],
   "source": [
    "from azureml.train.hyperdrive import GridParameterSampling\n",
    "from azureml.train.hyperdrive import HyperDriveConfig, PrimaryMetricGoal\n",
    "from azureml.train.hyperdrive import choice\n",
    "\n",
    "param_sampling = GridParameterSampling( {\n",
    "        \"num_layers\": choice(range(1, 4))\n",
    "    }\n",
    ")\n",
    "\n",
    "hyperdrive_config = HyperDriveConfig(run_config=script_run_config,\n",
    "                                     hyperparameter_sampling=param_sampling, \n",
    "                                     primary_metric_name='train_loss',\n",
    "                                     primary_metric_goal=PrimaryMetricGoal.MINIMIZE,\n",
    "                                     max_total_runs=100,\n",
    "                                     max_concurrent_runs=4)\n",
    "\n",
    "hyperdrive_run_num_layers = experiment.submit(hyperdrive_config)"
   ]
  },
  {
   "cell_type": "code",
   "execution_count": null,
   "metadata": {},
   "outputs": [],
   "source": [
    "hyperdrive_run_num_layers.wait_for_completion()\n",
    "hyperdrive_run_sequence_length.wait_for_completion()\n",
    "hyperdrive_run_embedding_hidden_dim.wait_for_completion()"
   ]
  },
  {
   "cell_type": "markdown",
   "metadata": {},
   "source": [
    "## Re-Train\n",
    "\n",
    "Re-Train the RNN model based on the outcome of the first round of tuning."
   ]
  },
  {
   "cell_type": "code",
   "execution_count": null,
   "metadata": {},
   "outputs": [],
   "source": [
    "from azureml.core import ScriptRunConfig\n",
    "from azureml.core.runconfig import DockerConfiguration\n",
    "\n",
    "args = [\n",
    "    '--num_epochs', 15, \n",
    "    '--batch_size', 256,\n",
    "    '--learning_rate', 0.001,\n",
    "    '--sequence_length', 25,\n",
    "    '--embedding_dim', 600,\n",
    "    '--hidden_dim', 600,\n",
    "    '--num_layers', 1,\n",
    "    '--output_dir', './outputs'\n",
    "]\n",
    "\n",
    "docker_config = DockerConfiguration(use_docker=True)\n",
    "script_run_config = ScriptRunConfig(source_directory=project_folder,\n",
    "                                    script='train.py',\n",
    "                                    arguments=args,\n",
    "                                    compute_target=compute_target,\n",
    "                                    environment=pytorch_env,\n",
    "                                    docker_runtime_config=docker_config)"
   ]
  },
  {
   "cell_type": "code",
   "execution_count": null,
   "metadata": {},
   "outputs": [],
   "source": [
    "test_run = experiment.submit(script_run_config)"
   ]
  },
  {
   "cell_type": "code",
   "execution_count": null,
   "metadata": {},
   "outputs": [],
   "source": [
    "from azureml.widgets import RunDetails\n",
    "\n",
    "RunDetails(test_run).show()"
   ]
  },
  {
   "cell_type": "code",
   "execution_count": null,
   "metadata": {},
   "outputs": [],
   "source": [
    "test_run.wait_for_completion()"
   ]
  },
  {
   "cell_type": "code",
   "execution_count": null,
   "metadata": {},
   "outputs": [],
   "source": [
    "from azureml.train.hyperdrive import BayesianParameterSampling\n",
    "from azureml.train.hyperdrive import HyperDriveConfig, PrimaryMetricGoal\n",
    "from azureml.train.hyperdrive import choice, quniform, qnormal\n",
    "\n",
    "param_sampling = BayesianParameterSampling( {\n",
    "        \"embedding_dim\": quniform(400, 1101, 10),\n",
    "        \"hidden_dim\": quniform(400, 1101, 10),\n",
    "        \"num_layers\": choice(range(1,3))\n",
    "    }\n",
    ")\n",
    "\n",
    "hyperdrive_config = HyperDriveConfig(run_config=script_run_config,\n",
    "                                     hyperparameter_sampling=param_sampling, \n",
    "                                     policy=None,\n",
    "                                     primary_metric_name='train_loss',\n",
    "                                     primary_metric_goal=PrimaryMetricGoal.MINIMIZE,\n",
    "                                     max_total_runs=96,\n",
    "                                     max_concurrent_runs=12)"
   ]
  },
  {
   "cell_type": "code",
   "execution_count": null,
   "metadata": {},
   "outputs": [],
   "source": [
    "# start the HyperDrive run\n",
    "hyperdrive_run = experiment.submit(hyperdrive_config)"
   ]
  },
  {
   "cell_type": "code",
   "execution_count": null,
   "metadata": {},
   "outputs": [],
   "source": [
    "RunDetails(hyperdrive_run).show()"
   ]
  },
  {
   "cell_type": "code",
   "execution_count": null,
   "metadata": {},
   "outputs": [],
   "source": [
    "from azureml.train.hyperdrive import GridParameterSampling\n",
    "from azureml.train.hyperdrive import HyperDriveConfig, PrimaryMetricGoal\n",
    "from azureml.train.hyperdrive import choice\n",
    "\n",
    "param_sampling = GridParameterSampling( {\n",
    "        \"embedding_dim\": choice(range(400, 1001, 50)),\n",
    "        \"hidden_dim\": choice(range(650, 1001, 50))\n",
    "    }\n",
    ")\n",
    "\n",
    "hyperdrive_config = HyperDriveConfig(run_config=script_run_config,\n",
    "                                     hyperparameter_sampling=param_sampling, \n",
    "                                     primary_metric_name='train_loss',\n",
    "                                     primary_metric_goal=PrimaryMetricGoal.MINIMIZE,\n",
    "                                     max_total_runs=100,\n",
    "                                     max_concurrent_runs=8)\n",
    "\n",
    "hyperdrive_run_embedding_hidden_dim = experiment.submit(hyperdrive_config)"
   ]
  }
 ],
 "metadata": {
  "kernelspec": {
   "display_name": "Python 3.6 - AzureML",
   "language": "python",
   "name": "python3-azureml"
  },
  "language_info": {
   "codemirror_mode": {
    "name": "ipython",
    "version": 3
   },
   "file_extension": ".py",
   "mimetype": "text/x-python",
   "name": "python",
   "nbconvert_exporter": "python",
   "pygments_lexer": "ipython3",
   "version": "3.6.9"
  }
 },
 "nbformat": 4,
 "nbformat_minor": 4
}
